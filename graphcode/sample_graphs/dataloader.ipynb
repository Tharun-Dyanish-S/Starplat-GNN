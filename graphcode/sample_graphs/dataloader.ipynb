{
 "cells": [
  {
   "cell_type": "code",
   "execution_count": 4,
   "metadata": {},
   "outputs": [
    {
     "name": "stdout",
     "output_type": "stream",
     "text": [
      "Defaulting to user installation because normal site-packages is not writeable\n",
      "Requirement already satisfied: torch_geometric in /home/anup/.local/lib/python3.12/site-packages (2.5.3)\n",
      "Requirement already satisfied: tqdm in /home/anup/.local/lib/python3.12/site-packages (from torch_geometric) (4.66.5)\n",
      "Requirement already satisfied: numpy in /home/anup/.local/lib/python3.12/site-packages (from torch_geometric) (2.0.1)\n",
      "Requirement already satisfied: scipy in /home/anup/.local/lib/python3.12/site-packages (from torch_geometric) (1.14.0)\n",
      "Requirement already satisfied: fsspec in /home/anup/.local/lib/python3.12/site-packages (from torch_geometric) (2024.6.1)\n",
      "Requirement already satisfied: jinja2 in /home/anup/.local/lib/python3.12/site-packages (from torch_geometric) (3.1.4)\n",
      "Requirement already satisfied: aiohttp in /home/anup/.local/lib/python3.12/site-packages (from torch_geometric) (3.10.1)\n",
      "Requirement already satisfied: requests in /usr/local/lib/python3.12/dist-packages (from torch_geometric) (2.32.3)\n",
      "Requirement already satisfied: pyparsing in /home/anup/.local/lib/python3.12/site-packages (from torch_geometric) (3.1.2)\n",
      "Requirement already satisfied: scikit-learn in /home/anup/.local/lib/python3.12/site-packages (from torch_geometric) (1.5.1)\n",
      "Requirement already satisfied: psutil>=5.8.0 in /home/anup/.local/lib/python3.12/site-packages (from torch_geometric) (6.0.0)\n",
      "Requirement already satisfied: aiohappyeyeballs>=2.3.0 in /home/anup/.local/lib/python3.12/site-packages (from aiohttp->torch_geometric) (2.3.4)\n",
      "Requirement already satisfied: aiosignal>=1.1.2 in /home/anup/.local/lib/python3.12/site-packages (from aiohttp->torch_geometric) (1.3.1)\n",
      "Requirement already satisfied: attrs>=17.3.0 in /home/anup/.local/lib/python3.12/site-packages (from aiohttp->torch_geometric) (24.2.0)\n",
      "Requirement already satisfied: frozenlist>=1.1.1 in /home/anup/.local/lib/python3.12/site-packages (from aiohttp->torch_geometric) (1.4.1)\n",
      "Requirement already satisfied: multidict<7.0,>=4.5 in /home/anup/.local/lib/python3.12/site-packages (from aiohttp->torch_geometric) (6.0.5)\n",
      "Requirement already satisfied: yarl<2.0,>=1.0 in /home/anup/.local/lib/python3.12/site-packages (from aiohttp->torch_geometric) (1.9.4)\n",
      "Requirement already satisfied: MarkupSafe>=2.0 in /home/anup/.local/lib/python3.12/site-packages (from jinja2->torch_geometric) (2.1.5)\n",
      "Requirement already satisfied: charset-normalizer<4,>=2 in /usr/local/lib/python3.12/dist-packages (from requests->torch_geometric) (3.3.2)\n",
      "Requirement already satisfied: idna<4,>=2.5 in /usr/lib/python3/dist-packages (from requests->torch_geometric) (2.8)\n",
      "Requirement already satisfied: urllib3<3,>=1.21.1 in /usr/lib/python3/dist-packages (from requests->torch_geometric) (1.25.8)\n",
      "Requirement already satisfied: certifi>=2017.4.17 in /usr/lib/python3/dist-packages (from requests->torch_geometric) (2019.11.28)\n",
      "Requirement already satisfied: joblib>=1.2.0 in /home/anup/.local/lib/python3.12/site-packages (from scikit-learn->torch_geometric) (1.4.2)\n",
      "Requirement already satisfied: threadpoolctl>=3.1.0 in /home/anup/.local/lib/python3.12/site-packages (from scikit-learn->torch_geometric) (3.5.0)\n",
      "Note: you may need to restart the kernel to use updated packages.\n"
     ]
    }
   ],
   "source": [
    "pip install torch_geometric"
   ]
  },
  {
   "cell_type": "code",
   "execution_count": 22,
   "metadata": {},
   "outputs": [],
   "source": [
    "from torch_geometric.datasets import AttributedGraphDataset\n"
   ]
  },
  {
   "cell_type": "code",
   "execution_count": 26,
   "metadata": {},
   "outputs": [
    {
     "name": "stderr",
     "output_type": "stream",
     "text": [
      "/home/anup/.local/lib/python3.12/site-packages/torch_geometric/data/dataset.py:238: FutureWarning: You are using `torch.load` with `weights_only=False` (the current default value), which uses the default pickle module implicitly. It is possible to construct malicious pickle data which will execute arbitrary code during unpickling (See https://github.com/pytorch/pytorch/blob/main/SECURITY.md#untrusted-models for more details). In a future release, the default value for `weights_only` will be flipped to `True`. This limits the functions that could be executed during unpickling. Arbitrary objects will no longer be allowed to be loaded via this mode unless they are explicitly allowlisted by the user via `torch.serialization.add_safe_globals`. We recommend you start setting `weights_only=True` for any use case where you don't have full control of the loaded file. Please open an issue on GitHub for any issues related to this experimental feature.\n",
      "  if osp.exists(f) and torch.load(f) != _repr(self.pre_transform):\n",
      "/home/anup/.local/lib/python3.12/site-packages/torch_geometric/data/dataset.py:246: FutureWarning: You are using `torch.load` with `weights_only=False` (the current default value), which uses the default pickle module implicitly. It is possible to construct malicious pickle data which will execute arbitrary code during unpickling (See https://github.com/pytorch/pytorch/blob/main/SECURITY.md#untrusted-models for more details). In a future release, the default value for `weights_only` will be flipped to `True`. This limits the functions that could be executed during unpickling. Arbitrary objects will no longer be allowed to be loaded via this mode unless they are explicitly allowlisted by the user via `torch.serialization.add_safe_globals`. We recommend you start setting `weights_only=True` for any use case where you don't have full control of the loaded file. Please open an issue on GitHub for any issues related to this experimental feature.\n",
      "  if osp.exists(f) and torch.load(f) != _repr(self.pre_filter):\n"
     ]
    },
    {
     "name": "stdout",
     "output_type": "stream",
     "text": [
      "Wiki()\n",
      "Data(x=[2405, 4973], edge_index=[2, 17981], y=[2405])\n"
     ]
    }
   ],
   "source": [
    "dataset = AttributedGraphDataset(root = './data',name = \"wiki\")\n",
    "print(dataset)\n",
    "data = dataset[0]  # Get the first graph object.\n",
    "#write the x to a txt file in the format of one after another\n",
    "print(data)\n",
    "import numpy as np \n",
    "np.savetxt(\"wiki_labels.txt\", data.y.numpy(), fmt=\"%d\") \n",
    "\n"
   ]
  },
  {
   "cell_type": "code",
   "execution_count": 24,
   "metadata": {},
   "outputs": [],
   "source": [
    "# open amazon.txt which is a file for features and now store it in the format of one after another\n",
    "# for each line in the file, store it in the format of one after another\n",
    "np.savetxt(\"wiki_txtt.txt\", data.x.numpy(), fmt=\"%f\") \n",
    "\n",
    "with open(\"wiki_txtt.txt\") as f:\n",
    "    lines = f.readlines()\n",
    "    #store each word in the line in the format of one after another\n",
    "    for line in lines:\n",
    "        ch = line.split()\n",
    "        for i in ch:                                                                                                                                                                                                                                                                                                                                                                                                                                                                                                                                                                                                                                                                                                                                                                                                                                                                                                                                                                                                                                                                                                                                                                                                                                                                                                                                                                                                                                                                                                                                                                                                                                                                                                                                                                                                                                                                                                                                                                                                                                                                                                                                                                                                                                                                                                                                                                                                                                                                                                                                \n",
    "            with open(\"wiki_features.txt\", \"a\") as f:\n",
    "                f.write(i + \"\\n\")"
   ]
  },
  {
   "cell_type": "code",
   "execution_count": 25,
   "metadata": {},
   "outputs": [],
   "source": [
    "with open('wiki_edgelist.txt', 'w') as f:\n",
    "    for edge in data.edge_index.t().tolist():\n",
    "        f.write(f\"{edge[0]} {edge[1]}\\n\")"
   ]
  }
 ],
 "metadata": {
  "kernelspec": {
   "display_name": "Python 3",
   "language": "python",
   "name": "python3"
  },
  "language_info": {
   "codemirror_mode": {
    "name": "ipython",
    "version": 3
   },
   "file_extension": ".py",
   "mimetype": "text/x-python",
   "name": "python",
   "nbconvert_exporter": "python",
   "pygments_lexer": "ipython3",
   "version": "3.12.2"
  }
 },
 "nbformat": 4,
 "nbformat_minor": 2
}
